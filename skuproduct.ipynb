{
 "cells": [
  {
   "cell_type": "code",
   "execution_count": 1,
   "source": [
    "!pip3 install pandas\n",
    "\n",
    "import pandas as pd\n",
    "df = pd.read_csv(\"t\", usecols=['name_client'])\n",
    "X= []\n",
    "for index, row in df.iterrows():\n",
    "    X.append(row.name_client)"
   ],
   "outputs": [
    {
     "output_type": "stream",
     "name": "stdout",
     "text": [
      "Requirement already satisfied: pandas in /home/hajer/anaconda3/envs/tictak/lib/python3.8/site-packages (1.3.3)\n",
      "Requirement already satisfied: numpy>=1.17.3 in /home/hajer/anaconda3/envs/tictak/lib/python3.8/site-packages (from pandas) (1.18.5)\n",
      "Requirement already satisfied: python-dateutil>=2.7.3 in /home/hajer/anaconda3/envs/tictak/lib/python3.8/site-packages (from pandas) (2.8.2)\n",
      "Requirement already satisfied: pytz>=2017.3 in /home/hajer/anaconda3/envs/tictak/lib/python3.8/site-packages (from pandas) (2021.1)\n",
      "Requirement already satisfied: six>=1.5 in /home/hajer/anaconda3/envs/tictak/lib/python3.8/site-packages (from python-dateutil>=2.7.3->pandas) (1.16.0)\n",
      "\u001b[33mWARNING: You are using pip version 20.2.4; however, version 21.3 is available.\n",
      "You should consider upgrading via the '/home/hajer/anaconda3/envs/tictak/bin/python -m pip install --upgrade pip' command.\u001b[0m\n"
     ]
    }
   ],
   "metadata": {}
  },
  {
   "cell_type": "code",
   "execution_count": 4,
   "source": [
    "i = 0\n",
    "with open('nom.txt', 'w',encoding='utf-8-sig') as ft:\n",
    "    while i < 909 :\n",
    "        ft.write(\"    - [\"+ str(X[i]) +\"](name)\")\n",
    "        ft.write(\"\\n\")\n",
    "        i += 1"
   ],
   "outputs": [],
   "metadata": {}
  }
 ],
 "metadata": {
  "orig_nbformat": 4,
  "language_info": {
   "name": "python",
   "version": "3.8.11",
   "mimetype": "text/x-python",
   "codemirror_mode": {
    "name": "ipython",
    "version": 3
   },
   "pygments_lexer": "ipython3",
   "nbconvert_exporter": "python",
   "file_extension": ".py"
  },
  "kernelspec": {
   "name": "python3",
   "display_name": "Python 3.8.11 64-bit ('tictak': conda)"
  },
  "interpreter": {
   "hash": "42be3d570a244a3b686f51816cd602100d6f9f717ed1bb3e8e9dc9e758ec6056"
  }
 },
 "nbformat": 4,
 "nbformat_minor": 2
}